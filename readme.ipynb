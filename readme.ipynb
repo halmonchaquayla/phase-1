{
 "cells": [
  {
   "cell_type": "markdown",
   "metadata": {},
   "source": [
    "![logo](images/micro.png)"
   ]
  },
  {
   "cell_type": "markdown",
   "metadata": {
    "heading_collapsed": true
   },
   "source": [
    "# Project Description:"
   ]
  },
  {
   "cell_type": "markdown",
   "metadata": {
    "hidden": true
   },
   "source": [
    "For this project, I will analyze movie data to come up with the best recommendations for Microsoft's new movie studio. I will use the data to create insights that can be used to increase the likelihood of a successful start. "
   ]
  },
  {
   "cell_type": "markdown",
   "metadata": {
    "hidden": true
   },
   "source": [
    "## Data"
   ]
  },
  {
   "cell_type": "markdown",
   "metadata": {
    "hidden": true
   },
   "source": [
    "**In the folder 'zippedData' from 2 different sources:**\n",
    "* IMDB\n",
    "* TN Movie Budgets\n",
    "\n",
    "**From these soucres I used a few datasets to make the necessary insights:**\n",
    "* tn.movie_budgets.csv.gz\n",
    "* imdb.title.ratings.csv.gz\n",
    "* imdb.title.basics.csv.gz\n",
    "\n",
    "With sqlite3 I was able to combine all of the datasets into one dataframe. For ease of use."
   ]
  },
  {
   "cell_type": "markdown",
   "metadata": {
    "hidden": true
   },
   "source": [
    "![dataframes](images/dfs.png)"
   ]
  },
  {
   "cell_type": "markdown",
   "metadata": {},
   "source": [
    "# Key Insights"
   ]
  },
  {
   "cell_type": "markdown",
   "metadata": {
    "heading_collapsed": true
   },
   "source": [
    "## What is the most popular genre?"
   ]
  },
  {
   "cell_type": "markdown",
   "metadata": {
    "hidden": true
   },
   "source": [
    "Looking at the ratings for different genre can give us an idea of what people like. That way you can build loyalty by giving people what they want. Below I analyzed the most popular genres within the movie database. I looked at the average rating for each movie and grouped them by genre. I took the sum of those ratings to get my results below. "
   ]
  },
  {
   "cell_type": "markdown",
   "metadata": {
    "hidden": true
   },
   "source": [
    "!['first_rating_plot](images/pic1.png)"
   ]
  },
  {
   "cell_type": "markdown",
   "metadata": {
    "hidden": true
   },
   "source": [
    "My first thought was \"Wow, Drama is really high compared to the other genres.\" So i decided to dig a bit further to see if there was a reason.\n",
    "\n",
    "**There Was**\n",
    "\n",
    "I found some movies that were duplicated when I searched the dataframe. The movies were had different genres which can skewed our data. I used a method that removes the duplicates. With more time I can research to make sure the movie I kept had the right genre listed. "
   ]
  },
  {
   "cell_type": "markdown",
   "metadata": {
    "hidden": true
   },
   "source": [
    "!['movies_duplicate](images/movies.png)"
   ]
  },
  {
   "cell_type": "markdown",
   "metadata": {
    "ExecuteTime": {
     "end_time": "2020-12-08T22:03:52.702027Z",
     "start_time": "2020-12-08T22:03:52.652066Z"
    },
    "hidden": true
   },
   "source": [
    "![most_popular_genre](images/pic2.png)\n"
   ]
  },
  {
   "cell_type": "markdown",
   "metadata": {
    "hidden": true
   },
   "source": [
    "### Insights/Findings/Recommendations\n",
    "\n",
    "**Findings**\n",
    "\n",
    "After examining all 2785 movies in the dataset. I created a datatframe that shows the count of all the unique genres and and the sum of their average ratings. After after removing the duplicates, Drama still trump over the other genres. It even appeared with other genres on the list. So my guess is that people love a bit of drama in their movies.\n",
    "\n",
    "**Recommendations**\n",
    "\n",
    "1. Since 90% of popular movies focus on more than one genre, so should we. \n",
    "2. Release movies that has genre dealing with Drama, whether alone or paired with another like Comedy or Romance. "
   ]
  },
  {
   "cell_type": "markdown",
   "metadata": {
    "heading_collapsed": true
   },
   "source": [
    "## What is the highest profit between selected genres?"
   ]
  },
  {
   "cell_type": "markdown",
   "metadata": {
    "hidden": true
   },
   "source": [
    "**Before I look at the comparsion of profits by genre. I want to check if there's a positive correlation between popular and revenue. Does higher rating mean higher revenue?**"
   ]
  },
  {
   "cell_type": "markdown",
   "metadata": {
    "hidden": true
   },
   "source": [
    "![profits_corr](images/pic3.png)"
   ]
  },
  {
   "cell_type": "markdown",
   "metadata": {
    "hidden": true
   },
   "source": [
    "So it looks like there a small, but positive correlation between popularity and revenue. Looking at the graph there's a majority of movies making money that have a rating between 6 and 8. So a movie doesn't have to be a perfect 10 to make money, but it's better to keep it over a rating of 6."
   ]
  },
  {
   "cell_type": "markdown",
   "metadata": {
    "hidden": true
   },
   "source": [
    "**Next I wanted to see quickly compare the top profitable genres with popular genres. Then I compared them side by side in hopes of finding some similarities.**"
   ]
  },
  {
   "cell_type": "markdown",
   "metadata": {
    "hidden": true
   },
   "source": [
    "![profits_vs_popularity](images/pic4.png)"
   ]
  },
  {
   "cell_type": "markdown",
   "metadata": {
    "hidden": true
   },
   "source": [
    "### Findings/Recommendations\n",
    "\n",
    "**Findings**\n",
    "\n",
    "Looking at the charts you can see there are only a few similarities. Even though Drama is high in popularity the profits are a bit on low side. Good thing Action/Adventure/Sci-Fi and Adventure/Animation/Comedy are the top two in regards of earnings, and still have a good amount of popularity to work with. It's best not to lean too heavy on Drama genres, since it's not a real moneymaker.\n",
    "\n",
    "**Recommnedations**\n",
    "* I still think it's best to work with the most popular genres, right now, just to build a brand before branching out.\n",
    "* Right now working with Drama, Action/Adventure/Sci-Fi and Adventure/Animation/Comedy is the best bet."
   ]
  },
  {
   "cell_type": "markdown",
   "metadata": {},
   "source": [
    "## What is the return of investment for selected genres?"
   ]
  },
  {
   "cell_type": "markdown",
   "metadata": {},
   "source": [
    "Since we're sticking with poplarity lets check the fiance from another angle. This can give us an idea of what to invest in. This way we can see which genre gives us the bang for our buck. Let's analyze the return of investment(roi) for each popular genre."
   ]
  },
  {
   "cell_type": "markdown",
   "metadata": {},
   "source": [
    "![roi_by_genre](images/pic5.png)"
   ]
  },
  {
   "cell_type": "markdown",
   "metadata": {},
   "source": [
    "### Findings/Recommendations\n",
    "\n",
    "**Findings**\n",
    "\n",
    "* So Drama still seems like the best way to go being the highest in ratings and in return of investments between the most popular genres. Though it seems that even some of the most popular genres have a lower roi than the least popular. With Action/Adventure/Sci-Fi and Adventure/Animation/Comedy, our most profitable genres, coming right behind. \n",
    "\n",
    "**Recommendations**\n",
    "* Investing with Drama genres will guarantee a better return. Action/Adventure/Sci-Fi and Adventure/Animation/Comedy are great investments as well as proftiable. So a win-win situation there. \n",
    "* We should start with a few genres to get our toes wet. For then next analysis let's focus on the top four."
   ]
  },
  {
   "cell_type": "markdown",
   "metadata": {},
   "source": [
    "## What is the best time to release selected genres?"
   ]
  },
  {
   "cell_type": "markdown",
   "metadata": {},
   "source": [
    "Picking the time to release a film is crucial to profits. It's a fact people are more adventurous in warmer months, so adventure is a great genre during that time. While others like to cozy up in the colder months, and what better way to cozy up then with a great dramatic movie. Now with a list of four genres the next step is to figure out the best time to release the films. Below you can see each genre and the profits for each month."
   ]
  },
  {
   "cell_type": "markdown",
   "metadata": {},
   "source": [
    "![most_popular_genre](images/pic6.png)"
   ]
  },
  {
   "cell_type": "markdown",
   "metadata": {},
   "source": [
    "### Findings/Recommendations\n",
    "\n",
    "**Findings**\n",
    "\n",
    "All around these genres look promising in the month of June. The highest for each genre:\n",
    "        Drama in Novemeber\n",
    "        Adventure/Animation/Comedy in July\n",
    "        Action/Adventure/Sci-Fi in May\n",
    "        Drama/Romance in February(shocker, right?)\n",
    "        \n",
    "**Recommendations**\n",
    "1. Drama movies will be great for June, July, and November.\n",
    "2. Adventure,Animation,Comedy will be great for June/July releases.\n",
    "3. Action,Adventure,Sci-Fi will be great for May/June releases.\n",
    "4. Drama,Romance will be great for February/June releases."
   ]
  },
  {
   "cell_type": "markdown",
   "metadata": {},
   "source": [
    "# Conclusions\n"
   ]
  },
  {
   "cell_type": "markdown",
   "metadata": {},
   "source": [
    "**Recommendations**\n",
    "* Focus on Drama movies for the highest rating. Ratings are important to create loyal customers. Lower rating movies don't get a second glance.\n",
    "* For profit add Adventure/Animation/Comedy and Action/Adventure/Sci-Fi, though the ratings is fair these genres bring in the most profit. Profits that help build a better studio.\n",
    "* All movies with these genres should have a summer release. Drama/Romance should focus on more releases in February and Drama in November.\n",
    "\n",
    "**Next Steps**\n",
    "* More in-depth statistical analysis to better understand the trends\n",
    "* Attempt to gather more genre and ratings data as many movies was missing values.\n",
    "* Focus on production cost for each genre and invest in people to create these films"
   ]
  }
 ],
 "metadata": {
  "kernelspec": {
   "display_name": "Python 3",
   "language": "python",
   "name": "python3"
  },
  "language_info": {
   "codemirror_mode": {
    "name": "ipython",
    "version": 3
   },
   "file_extension": ".py",
   "mimetype": "text/x-python",
   "name": "python",
   "nbconvert_exporter": "python",
   "pygments_lexer": "ipython3",
   "version": "3.8.5"
  },
  "toc": {
   "base_numbering": 1,
   "nav_menu": {},
   "number_sections": true,
   "sideBar": true,
   "skip_h1_title": false,
   "title_cell": "Table of Contents",
   "title_sidebar": "Contents",
   "toc_cell": false,
   "toc_position": {},
   "toc_section_display": true,
   "toc_window_display": false
  },
  "varInspector": {
   "cols": {
    "lenName": 16,
    "lenType": 16,
    "lenVar": 40
   },
   "kernels_config": {
    "python": {
     "delete_cmd_postfix": "",
     "delete_cmd_prefix": "del ",
     "library": "var_list.py",
     "varRefreshCmd": "print(var_dic_list())"
    },
    "r": {
     "delete_cmd_postfix": ") ",
     "delete_cmd_prefix": "rm(",
     "library": "var_list.r",
     "varRefreshCmd": "cat(var_dic_list()) "
    }
   },
   "types_to_exclude": [
    "module",
    "function",
    "builtin_function_or_method",
    "instance",
    "_Feature"
   ],
   "window_display": false
  }
 },
 "nbformat": 4,
 "nbformat_minor": 4
}
